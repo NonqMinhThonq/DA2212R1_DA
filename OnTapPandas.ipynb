{
 "cells": [
  {
   "cell_type": "code",
   "execution_count": 2,
   "id": "d5d5b241-a9e4-4548-93e6-a780b50e0d95",
   "metadata": {},
   "outputs": [
    {
     "data": {
      "text/html": [
       "<div>\n",
       "<style scoped>\n",
       "    .dataframe tbody tr th:only-of-type {\n",
       "        vertical-align: middle;\n",
       "    }\n",
       "\n",
       "    .dataframe tbody tr th {\n",
       "        vertical-align: top;\n",
       "    }\n",
       "\n",
       "    .dataframe thead th {\n",
       "        text-align: right;\n",
       "    }\n",
       "</style>\n",
       "<table border=\"1\" class=\"dataframe\">\n",
       "  <thead>\n",
       "    <tr style=\"text-align: right;\">\n",
       "      <th></th>\n",
       "      <th>Country</th>\n",
       "      <th>Continent</th>\n",
       "      <th>GDP (millions of US$)</th>\n",
       "    </tr>\n",
       "  </thead>\n",
       "  <tbody>\n",
       "    <tr>\n",
       "      <th>0</th>\n",
       "      <td>Afghanistan</td>\n",
       "      <td>Asia</td>\n",
       "      <td>18181</td>\n",
       "    </tr>\n",
       "    <tr>\n",
       "      <th>1</th>\n",
       "      <td>Albania</td>\n",
       "      <td>Europe</td>\n",
       "      <td>12847</td>\n",
       "    </tr>\n",
       "    <tr>\n",
       "      <th>2</th>\n",
       "      <td>Algeria</td>\n",
       "      <td>Africa</td>\n",
       "      <td>190709</td>\n",
       "    </tr>\n",
       "    <tr>\n",
       "      <th>3</th>\n",
       "      <td>Angola</td>\n",
       "      <td>Africa</td>\n",
       "      <td>100948</td>\n",
       "    </tr>\n",
       "    <tr>\n",
       "      <th>4</th>\n",
       "      <td>Argentina</td>\n",
       "      <td>South America</td>\n",
       "      <td>447644</td>\n",
       "    </tr>\n",
       "    <tr>\n",
       "      <th>...</th>\n",
       "      <td>...</td>\n",
       "      <td>...</td>\n",
       "      <td>...</td>\n",
       "    </tr>\n",
       "    <tr>\n",
       "      <th>120</th>\n",
       "      <td>Uzbekistan</td>\n",
       "      <td>Asia</td>\n",
       "      <td>45353</td>\n",
       "    </tr>\n",
       "    <tr>\n",
       "      <th>121</th>\n",
       "      <td>Venezuela</td>\n",
       "      <td>South America</td>\n",
       "      <td>315841</td>\n",
       "    </tr>\n",
       "    <tr>\n",
       "      <th>122</th>\n",
       "      <td>Vietnam</td>\n",
       "      <td>Asia</td>\n",
       "      <td>122722</td>\n",
       "    </tr>\n",
       "    <tr>\n",
       "      <th>123</th>\n",
       "      <td>Yemen</td>\n",
       "      <td>Africa</td>\n",
       "      <td>33675</td>\n",
       "    </tr>\n",
       "    <tr>\n",
       "      <th>124</th>\n",
       "      <td>Zambia</td>\n",
       "      <td>Africa</td>\n",
       "      <td>19206</td>\n",
       "    </tr>\n",
       "  </tbody>\n",
       "</table>\n",
       "<p>125 rows × 3 columns</p>\n",
       "</div>"
      ],
      "text/plain": [
       "          Country      Continent  GDP (millions of US$)\n",
       "0     Afghanistan           Asia                  18181\n",
       "1         Albania         Europe                  12847\n",
       "2         Algeria         Africa                 190709\n",
       "3          Angola         Africa                 100948\n",
       "4       Argentina  South America                 447644\n",
       "..            ...            ...                    ...\n",
       "120    Uzbekistan           Asia                  45353\n",
       "121     Venezuela  South America                 315841\n",
       "122       Vietnam           Asia                 122722\n",
       "123         Yemen         Africa                  33675\n",
       "124        Zambia         Africa                  19206\n",
       "\n",
       "[125 rows x 3 columns]"
      ]
     },
     "execution_count": 2,
     "metadata": {},
     "output_type": "execute_result"
    }
   ],
   "source": [
    "#Đọc bộ dữ liệu, cho biết số dòng, số cột và kiểu dữ liệu của các thuộc tính.\n",
    "#Tính giá trị lớn nhất và nhỏ nhất của GDP.\n",
    "#Hãy cho biết xu hướng phân bố dữ liệu của GDP.\n",
    "#Hãy cho biết châu lục nào xuất hiện nhiều nhất?\n",
    "#Với mỗi châu lục hãy tính tổng GDP; trung bình cộng GDP. Hợp nhất 2 bảng này thành một bảng duy nhất gồm 3 thông tin: Tên châu lục; Tổng GDP; TBC GDP.\n",
    "import pandas as pd\n",
    "import numpy as np\n",
    "\n",
    "df = pd.read_csv(\"GDPlist.csv\", encoding = \"ISO-8859-1\")\n",
    "df"
   ]
  },
  {
   "cell_type": "code",
   "execution_count": 4,
   "id": "0501d316-54a4-484b-affe-972735eaa9bd",
   "metadata": {},
   "outputs": [
    {
     "name": "stdout",
     "output_type": "stream",
     "text": [
      "Min GDP là:  10600\n",
      "Max GDP là:  15094025\n"
     ]
    },
    {
     "data": {
      "text/html": [
       "<div>\n",
       "<style scoped>\n",
       "    .dataframe tbody tr th:only-of-type {\n",
       "        vertical-align: middle;\n",
       "    }\n",
       "\n",
       "    .dataframe tbody tr th {\n",
       "        vertical-align: top;\n",
       "    }\n",
       "\n",
       "    .dataframe thead th {\n",
       "        text-align: right;\n",
       "    }\n",
       "</style>\n",
       "<table border=\"1\" class=\"dataframe\">\n",
       "  <thead>\n",
       "    <tr style=\"text-align: right;\">\n",
       "      <th></th>\n",
       "      <th>Country</th>\n",
       "      <th>Continent</th>\n",
       "      <th>GDP</th>\n",
       "    </tr>\n",
       "  </thead>\n",
       "  <tbody>\n",
       "    <tr>\n",
       "      <th>0</th>\n",
       "      <td>Afghanistan</td>\n",
       "      <td>Asia</td>\n",
       "      <td>18181</td>\n",
       "    </tr>\n",
       "    <tr>\n",
       "      <th>1</th>\n",
       "      <td>Albania</td>\n",
       "      <td>Europe</td>\n",
       "      <td>12847</td>\n",
       "    </tr>\n",
       "    <tr>\n",
       "      <th>2</th>\n",
       "      <td>Algeria</td>\n",
       "      <td>Africa</td>\n",
       "      <td>190709</td>\n",
       "    </tr>\n",
       "    <tr>\n",
       "      <th>3</th>\n",
       "      <td>Angola</td>\n",
       "      <td>Africa</td>\n",
       "      <td>100948</td>\n",
       "    </tr>\n",
       "    <tr>\n",
       "      <th>4</th>\n",
       "      <td>Argentina</td>\n",
       "      <td>South America</td>\n",
       "      <td>447644</td>\n",
       "    </tr>\n",
       "    <tr>\n",
       "      <th>...</th>\n",
       "      <td>...</td>\n",
       "      <td>...</td>\n",
       "      <td>...</td>\n",
       "    </tr>\n",
       "    <tr>\n",
       "      <th>120</th>\n",
       "      <td>Uzbekistan</td>\n",
       "      <td>Asia</td>\n",
       "      <td>45353</td>\n",
       "    </tr>\n",
       "    <tr>\n",
       "      <th>121</th>\n",
       "      <td>Venezuela</td>\n",
       "      <td>South America</td>\n",
       "      <td>315841</td>\n",
       "    </tr>\n",
       "    <tr>\n",
       "      <th>122</th>\n",
       "      <td>Vietnam</td>\n",
       "      <td>Asia</td>\n",
       "      <td>122722</td>\n",
       "    </tr>\n",
       "    <tr>\n",
       "      <th>123</th>\n",
       "      <td>Yemen</td>\n",
       "      <td>Africa</td>\n",
       "      <td>33675</td>\n",
       "    </tr>\n",
       "    <tr>\n",
       "      <th>124</th>\n",
       "      <td>Zambia</td>\n",
       "      <td>Africa</td>\n",
       "      <td>19206</td>\n",
       "    </tr>\n",
       "  </tbody>\n",
       "</table>\n",
       "<p>125 rows × 3 columns</p>\n",
       "</div>"
      ],
      "text/plain": [
       "          Country      Continent     GDP\n",
       "0     Afghanistan           Asia   18181\n",
       "1         Albania         Europe   12847\n",
       "2         Algeria         Africa  190709\n",
       "3          Angola         Africa  100948\n",
       "4       Argentina  South America  447644\n",
       "..            ...            ...     ...\n",
       "120    Uzbekistan           Asia   45353\n",
       "121     Venezuela  South America  315841\n",
       "122       Vietnam           Asia  122722\n",
       "123         Yemen         Africa   33675\n",
       "124        Zambia         Africa   19206\n",
       "\n",
       "[125 rows x 3 columns]"
      ]
     },
     "execution_count": 4,
     "metadata": {},
     "output_type": "execute_result"
    }
   ],
   "source": [
    "#Tính giá trị lớn nhất và nhỏ nhất của GDP.\n",
    "print(\"Min GDP là: \", df[\"GDP (millions of US$)\"].min())\n",
    "print(\"Max GDP là: \", df[\"GDP (millions of US$)\"].max())\n",
    "df.rename(columns = {\"GDP (millions of US$)\":\"GDP\"}, inplace = True)\n",
    "df"
   ]
  },
  {
   "cell_type": "code",
   "execution_count": 19,
   "id": "4ff5bc9e-5ecd-44da-97b2-589a11bd331a",
   "metadata": {},
   "outputs": [
    {
     "name": "stdout",
     "output_type": "stream",
     "text": [
      "Mean:  555427.784 Median:  96089.0\n"
     ]
    },
    {
     "data": {
      "text/plain": [
       "<AxesSubplot:ylabel='Density'>"
      ]
     },
     "execution_count": 19,
     "metadata": {},
     "output_type": "execute_result"
    },
    {
     "data": {
      "image/png": "[encoded data removed]",
      "text/plain": [
       "<Figure size 640x480 with 1 Axes>"
      ]
     },
     "metadata": {},
     "output_type": "display_data"
    }
   ],
   "source": [
    "#Hãy cho biết xu hướng phân bố dữ liệu của GDP.\n",
    "#Tìm phân bố dữ liệu của một cột định lượng thì mình làm sao ? \n",
    "#Mean, mode, median\n",
    "print(\"Mean: \", df[\"GDP\"].mean(), \"Median: \", df[\"GDP\"].median())\n",
    "x = df[\"GDP\"].value_counts()\n",
    "x\n",
    "df[\"GDP\"].plot(kind = \"kde\")\n"
   ]
  },
  {
   "cell_type": "code",
   "execution_count": 18,
   "id": "74939c47-2fd5-4284-ac6e-4da0067ad275",
   "metadata": {},
   "outputs": [
    {
     "data": {
      "text/plain": [
       "<AxesSubplot:ylabel='Density'>"
      ]
     },
     "execution_count": 18,
     "metadata": {},
     "output_type": "execute_result"
    },
    {
     "data": {
      "image/png": "[encoded data removed]",
      "text/plain": [
       "<Figure size 640x480 with 1 Axes>"
      ]
     },
     "metadata": {},
     "output_type": "display_data"
    }
   ],
   "source": [
    "\n"
   ]
  },
  {
   "cell_type": "code",
   "execution_count": 46,
   "id": "6d16fff1-1143-45b8-8e84-1a176de0b88a",
   "metadata": {},
   "outputs": [
    {
     "name": "stdout",
     "output_type": "stream",
     "text": [
      "Châu lục xuất hiện nhiều nhất là Europe với số lần xuất hiện là: 37\n"
     ]
    }
   ],
   "source": [
    "#Hãy cho biết châu lục nào xuất hiện nhiều nhất và số lần xuất hiện? \n",
    "#print(\"Châu lục xuất hiện nhiều nhất\", df[\"Continent\"].mode().iloc[0])\n",
    "print(\"Châu lục xuất hiện nhiều nhất là\",df[\"Continent\"].value_counts().idxmax(),\"với số lần xuất hiện là:\", df[\"Continent\"].value_counts().iloc[0])\n",
    "\n"
   ]
  },
  {
   "cell_type": "code",
   "execution_count": 38,
   "id": "2042a495-84fc-4a63-828b-e1563dbdc3c1",
   "metadata": {},
   "outputs": [
    {
     "data": {
      "text/plain": [
       "Europe           37\n",
       "Asia             36\n",
       "Africa           29\n",
       "North America    11\n",
       "South America     9\n",
       "Oceania           3\n",
       "Name: Continent, dtype: int64"
      ]
     },
     "execution_count": 38,
     "metadata": {},
     "output_type": "execute_result"
    }
   ],
   "source": [
    "#Với mỗi châu lục hãy tính tổng GDP; trung bình cộng GDP. Hợp nhất 2 bảng này thành một bảng duy nhất gồm 3 thông tin: Tên châu lục; Tổng GDP; TBC GDP.\n",
    "table = pd.pivot_table(df,index = \"Continent\", values = \"GDP\", aggfunc = {\"sum\",\"mean\"})\n",
    "table\n",
    "table.rename(columns ={\"Continent\":\"Chauluc\",\"mean\":\"TBC GDP\", \"sum\":\"Sum GDP\"}, inplace = True)\n",
    "df1.insert(0,\"Chauluc\",table.index)"
   ]
  },
  {
   "cell_type": "code",
   "execution_count": 85,
   "id": "380e9712-d469-4aa2-a8ba-ee24a0269867",
   "metadata": {},
   "outputs": [
    {
     "data": {
      "text/html": [
       "<div>\n",
       "<style scoped>\n",
       "    .dataframe tbody tr th:only-of-type {\n",
       "        vertical-align: middle;\n",
       "    }\n",
       "\n",
       "    .dataframe tbody tr th {\n",
       "        vertical-align: top;\n",
       "    }\n",
       "\n",
       "    .dataframe thead th {\n",
       "        text-align: right;\n",
       "    }\n",
       "</style>\n",
       "<table border=\"1\" class=\"dataframe\">\n",
       "  <thead>\n",
       "    <tr style=\"text-align: right;\">\n",
       "      <th></th>\n",
       "      <th>mean</th>\n",
       "      <th>sum</th>\n",
       "    </tr>\n",
       "    <tr>\n",
       "      <th>Continent</th>\n",
       "      <th></th>\n",
       "      <th></th>\n",
       "    </tr>\n",
       "  </thead>\n",
       "  <tbody>\n",
       "    <tr>\n",
       "      <th>Africa</th>\n",
       "      <td>6.278659e+04</td>\n",
       "      <td>1820811</td>\n",
       "    </tr>\n",
       "    <tr>\n",
       "      <th>Asia</th>\n",
       "      <td>6.784970e+05</td>\n",
       "      <td>24425891</td>\n",
       "    </tr>\n",
       "    <tr>\n",
       "      <th>Europe</th>\n",
       "      <td>5.172805e+05</td>\n",
       "      <td>19139380</td>\n",
       "    </tr>\n",
       "    <tr>\n",
       "      <th>North America</th>\n",
       "      <td>1.658041e+06</td>\n",
       "      <td>18238447</td>\n",
       "    </tr>\n",
       "    <tr>\n",
       "      <th>Oceania</th>\n",
       "      <td>5.542423e+05</td>\n",
       "      <td>1662727</td>\n",
       "    </tr>\n",
       "    <tr>\n",
       "      <th>South America</th>\n",
       "      <td>4.601352e+05</td>\n",
       "      <td>4141217</td>\n",
       "    </tr>\n",
       "  </tbody>\n",
       "</table>\n",
       "</div>"
      ],
      "text/plain": [
       "                       mean       sum\n",
       "Continent                            \n",
       "Africa         6.278659e+04   1820811\n",
       "Asia           6.784970e+05  24425891\n",
       "Europe         5.172805e+05  19139380\n",
       "North America  1.658041e+06  18238447\n",
       "Oceania        5.542423e+05   1662727\n",
       "South America  4.601352e+05   4141217"
      ]
     },
     "execution_count": 85,
     "metadata": {},
     "output_type": "execute_result"
    }
   ],
   "source": [
    "table = pd.pivot_table(df,index = \"Continent\", values = \"GDP\", aggfunc = {\"sum\",\"mean\"})\n",
    "table"
   ]
  },
  {
   "cell_type": "code",
   "execution_count": 87,
   "id": "1926823c-b7cd-4ed1-9d06-44174a87ea10",
   "metadata": {},
   "outputs": [],
   "source": [
    "table.rename(columns ={\"Continent\":\"Chauluc\",\"mean\":\"TBC GDP\", \"sum\":\"Sum GDP\"}, inplace = True)"
   ]
  },
  {
   "cell_type": "code",
   "execution_count": 89,
   "id": "b92bf779-9919-42e2-b769-a343ca060d24",
   "metadata": {},
   "outputs": [
    {
     "data": {
      "text/html": [
       "<div>\n",
       "<style scoped>\n",
       "    .dataframe tbody tr th:only-of-type {\n",
       "        vertical-align: middle;\n",
       "    }\n",
       "\n",
       "    .dataframe tbody tr th {\n",
       "        vertical-align: top;\n",
       "    }\n",
       "\n",
       "    .dataframe thead th {\n",
       "        text-align: right;\n",
       "    }\n",
       "</style>\n",
       "<table border=\"1\" class=\"dataframe\">\n",
       "  <thead>\n",
       "    <tr style=\"text-align: right;\">\n",
       "      <th></th>\n",
       "      <th>TBC GDP</th>\n",
       "      <th>Sum GDP</th>\n",
       "    </tr>\n",
       "    <tr>\n",
       "      <th>Continent</th>\n",
       "      <th></th>\n",
       "      <th></th>\n",
       "    </tr>\n",
       "  </thead>\n",
       "  <tbody>\n",
       "    <tr>\n",
       "      <th>Africa</th>\n",
       "      <td>6.278659e+04</td>\n",
       "      <td>1820811</td>\n",
       "    </tr>\n",
       "    <tr>\n",
       "      <th>Asia</th>\n",
       "      <td>6.784970e+05</td>\n",
       "      <td>24425891</td>\n",
       "    </tr>\n",
       "    <tr>\n",
       "      <th>Europe</th>\n",
       "      <td>5.172805e+05</td>\n",
       "      <td>19139380</td>\n",
       "    </tr>\n",
       "    <tr>\n",
       "      <th>North America</th>\n",
       "      <td>1.658041e+06</td>\n",
       "      <td>18238447</td>\n",
       "    </tr>\n",
       "    <tr>\n",
       "      <th>Oceania</th>\n",
       "      <td>5.542423e+05</td>\n",
       "      <td>1662727</td>\n",
       "    </tr>\n",
       "    <tr>\n",
       "      <th>South America</th>\n",
       "      <td>4.601352e+05</td>\n",
       "      <td>4141217</td>\n",
       "    </tr>\n",
       "  </tbody>\n",
       "</table>\n",
       "</div>"
      ],
      "text/plain": [
       "                    TBC GDP   Sum GDP\n",
       "Continent                            \n",
       "Africa         6.278659e+04   1820811\n",
       "Asia           6.784970e+05  24425891\n",
       "Europe         5.172805e+05  19139380\n",
       "North America  1.658041e+06  18238447\n",
       "Oceania        5.542423e+05   1662727\n",
       "South America  4.601352e+05   4141217"
      ]
     },
     "execution_count": 89,
     "metadata": {},
     "output_type": "execute_result"
    }
   ],
   "source": [
    "table.rename(columns = {\"Continent\":\"Chauluc\"},inplace = True)\n",
    "table"
   ]
  },
  {
   "cell_type": "code",
   "execution_count": 90,
   "id": "2c0ec5ca-f03a-4e6e-9b1c-ec4523f41552",
   "metadata": {},
   "outputs": [],
   "source": [
    "df1 = table"
   ]
  },
  {
   "cell_type": "code",
   "execution_count": 96,
   "id": "fdc12046-96f3-4604-a08c-74c6493b331f",
   "metadata": {},
   "outputs": [
    {
     "data": {
      "text/html": [
       "<div>\n",
       "<style scoped>\n",
       "    .dataframe tbody tr th:only-of-type {\n",
       "        vertical-align: middle;\n",
       "    }\n",
       "\n",
       "    .dataframe tbody tr th {\n",
       "        vertical-align: top;\n",
       "    }\n",
       "\n",
       "    .dataframe thead th {\n",
       "        text-align: right;\n",
       "    }\n",
       "</style>\n",
       "<table border=\"1\" class=\"dataframe\">\n",
       "  <thead>\n",
       "    <tr style=\"text-align: right;\">\n",
       "      <th></th>\n",
       "      <th>Chauluc</th>\n",
       "      <th>TBC GDP</th>\n",
       "      <th>Sum GDP</th>\n",
       "    </tr>\n",
       "    <tr>\n",
       "      <th>Continent</th>\n",
       "      <th></th>\n",
       "      <th></th>\n",
       "      <th></th>\n",
       "    </tr>\n",
       "  </thead>\n",
       "  <tbody>\n",
       "    <tr>\n",
       "      <th>Africa</th>\n",
       "      <td>Africa</td>\n",
       "      <td>6.278659e+04</td>\n",
       "      <td>1820811</td>\n",
       "    </tr>\n",
       "    <tr>\n",
       "      <th>Asia</th>\n",
       "      <td>Asia</td>\n",
       "      <td>6.784970e+05</td>\n",
       "      <td>24425891</td>\n",
       "    </tr>\n",
       "    <tr>\n",
       "      <th>Europe</th>\n",
       "      <td>Europe</td>\n",
       "      <td>5.172805e+05</td>\n",
       "      <td>19139380</td>\n",
       "    </tr>\n",
       "    <tr>\n",
       "      <th>North America</th>\n",
       "      <td>North America</td>\n",
       "      <td>1.658041e+06</td>\n",
       "      <td>18238447</td>\n",
       "    </tr>\n",
       "    <tr>\n",
       "      <th>Oceania</th>\n",
       "      <td>Oceania</td>\n",
       "      <td>5.542423e+05</td>\n",
       "      <td>1662727</td>\n",
       "    </tr>\n",
       "    <tr>\n",
       "      <th>South America</th>\n",
       "      <td>South America</td>\n",
       "      <td>4.601352e+05</td>\n",
       "      <td>4141217</td>\n",
       "    </tr>\n",
       "  </tbody>\n",
       "</table>\n",
       "</div>"
      ],
      "text/plain": [
       "                     Chauluc       TBC GDP   Sum GDP\n",
       "Continent                                           \n",
       "Africa                Africa  6.278659e+04   1820811\n",
       "Asia                    Asia  6.784970e+05  24425891\n",
       "Europe                Europe  5.172805e+05  19139380\n",
       "North America  North America  1.658041e+06  18238447\n",
       "Oceania              Oceania  5.542423e+05   1662727\n",
       "South America  South America  4.601352e+05   4141217"
      ]
     },
     "execution_count": 96,
     "metadata": {},
     "output_type": "execute_result"
    }
   ],
   "source": [
    "df1.insert(0,\"Chauluc\",table.index)\n",
    "df1"
   ]
  },
  {
   "cell_type": "code",
   "execution_count": 101,
   "id": "786ddc55-864f-4ba9-a49b-b8e59b67cd09",
   "metadata": {},
   "outputs": [],
   "source": [
    "df1.reset_index(inplace = True)"
   ]
  },
  {
   "cell_type": "code",
   "execution_count": 103,
   "id": "bd34e2c2-ddd3-43f9-ac2a-6204a6d0dd15",
   "metadata": {},
   "outputs": [
    {
     "data": {
      "text/html": [
       "<div>\n",
       "<style scoped>\n",
       "    .dataframe tbody tr th:only-of-type {\n",
       "        vertical-align: middle;\n",
       "    }\n",
       "\n",
       "    .dataframe tbody tr th {\n",
       "        vertical-align: top;\n",
       "    }\n",
       "\n",
       "    .dataframe thead th {\n",
       "        text-align: right;\n",
       "    }\n",
       "</style>\n",
       "<table border=\"1\" class=\"dataframe\">\n",
       "  <thead>\n",
       "    <tr style=\"text-align: right;\">\n",
       "      <th></th>\n",
       "      <th>Chauluc</th>\n",
       "      <th>TBC GDP</th>\n",
       "      <th>Sum GDP</th>\n",
       "    </tr>\n",
       "  </thead>\n",
       "  <tbody>\n",
       "    <tr>\n",
       "      <th>0</th>\n",
       "      <td>Africa</td>\n",
       "      <td>6.278659e+04</td>\n",
       "      <td>1820811</td>\n",
       "    </tr>\n",
       "    <tr>\n",
       "      <th>1</th>\n",
       "      <td>Asia</td>\n",
       "      <td>6.784970e+05</td>\n",
       "      <td>24425891</td>\n",
       "    </tr>\n",
       "    <tr>\n",
       "      <th>2</th>\n",
       "      <td>Europe</td>\n",
       "      <td>5.172805e+05</td>\n",
       "      <td>19139380</td>\n",
       "    </tr>\n",
       "    <tr>\n",
       "      <th>3</th>\n",
       "      <td>North America</td>\n",
       "      <td>1.658041e+06</td>\n",
       "      <td>18238447</td>\n",
       "    </tr>\n",
       "    <tr>\n",
       "      <th>4</th>\n",
       "      <td>Oceania</td>\n",
       "      <td>5.542423e+05</td>\n",
       "      <td>1662727</td>\n",
       "    </tr>\n",
       "    <tr>\n",
       "      <th>5</th>\n",
       "      <td>South America</td>\n",
       "      <td>4.601352e+05</td>\n",
       "      <td>4141217</td>\n",
       "    </tr>\n",
       "  </tbody>\n",
       "</table>\n",
       "</div>"
      ],
      "text/plain": [
       "         Chauluc       TBC GDP   Sum GDP\n",
       "0         Africa  6.278659e+04   1820811\n",
       "1           Asia  6.784970e+05  24425891\n",
       "2         Europe  5.172805e+05  19139380\n",
       "3  North America  1.658041e+06  18238447\n",
       "4        Oceania  5.542423e+05   1662727\n",
       "5  South America  4.601352e+05   4141217"
      ]
     },
     "execution_count": 103,
     "metadata": {},
     "output_type": "execute_result"
    }
   ],
   "source": [
    "df1\n",
    "df1.drop(\"Continent\", axis = 1, inplace = True)\n",
    "df1"
   ]
  },
  {
   "cell_type": "code",
   "execution_count": 100,
   "id": "e7ff68cf-0ced-4d68-bdae-58f73a29f37f",
   "metadata": {},
   "outputs": [
    {
     "data": {
      "text/html": [
       "<div>\n",
       "<style scoped>\n",
       "    .dataframe tbody tr th:only-of-type {\n",
       "        vertical-align: middle;\n",
       "    }\n",
       "\n",
       "    .dataframe tbody tr th {\n",
       "        vertical-align: top;\n",
       "    }\n",
       "\n",
       "    .dataframe thead th {\n",
       "        text-align: right;\n",
       "    }\n",
       "</style>\n",
       "<table border=\"1\" class=\"dataframe\">\n",
       "  <thead>\n",
       "    <tr style=\"text-align: right;\">\n",
       "      <th></th>\n",
       "      <th>Chauluc</th>\n",
       "      <th>TBC GDP</th>\n",
       "      <th>Sum GDP</th>\n",
       "    </tr>\n",
       "    <tr>\n",
       "      <th>Continent</th>\n",
       "      <th></th>\n",
       "      <th></th>\n",
       "      <th></th>\n",
       "    </tr>\n",
       "  </thead>\n",
       "  <tbody>\n",
       "    <tr>\n",
       "      <th>Africa</th>\n",
       "      <td>Africa</td>\n",
       "      <td>6.278659e+04</td>\n",
       "      <td>1820811</td>\n",
       "    </tr>\n",
       "    <tr>\n",
       "      <th>Asia</th>\n",
       "      <td>Asia</td>\n",
       "      <td>6.784970e+05</td>\n",
       "      <td>24425891</td>\n",
       "    </tr>\n",
       "    <tr>\n",
       "      <th>Europe</th>\n",
       "      <td>Europe</td>\n",
       "      <td>5.172805e+05</td>\n",
       "      <td>19139380</td>\n",
       "    </tr>\n",
       "    <tr>\n",
       "      <th>North America</th>\n",
       "      <td>North America</td>\n",
       "      <td>1.658041e+06</td>\n",
       "      <td>18238447</td>\n",
       "    </tr>\n",
       "    <tr>\n",
       "      <th>Oceania</th>\n",
       "      <td>Oceania</td>\n",
       "      <td>5.542423e+05</td>\n",
       "      <td>1662727</td>\n",
       "    </tr>\n",
       "    <tr>\n",
       "      <th>South America</th>\n",
       "      <td>South America</td>\n",
       "      <td>4.601352e+05</td>\n",
       "      <td>4141217</td>\n",
       "    </tr>\n",
       "  </tbody>\n",
       "</table>\n",
       "</div>"
      ],
      "text/plain": [
       "                     Chauluc       TBC GDP   Sum GDP\n",
       "Continent                                           \n",
       "Africa                Africa  6.278659e+04   1820811\n",
       "Asia                    Asia  6.784970e+05  24425891\n",
       "Europe                Europe  5.172805e+05  19139380\n",
       "North America  North America  1.658041e+06  18238447\n",
       "Oceania              Oceania  5.542423e+05   1662727\n",
       "South America  South America  4.601352e+05   4141217"
      ]
     },
     "execution_count": 100,
     "metadata": {},
     "output_type": "execute_result"
    }
   ],
   "source": [
    "df1"
   ]
  },
  {
   "cell_type": "code",
   "execution_count": null,
   "id": "4943199f-9c1e-40a0-be19-93ad3d277f9c",
   "metadata": {},
   "outputs": [],
   "source": []
  }
 ],
 "metadata": {
  "kernelspec": {
   "display_name": "Python 3 (ipykernel)",
   "language": "python",
   "name": "python3"
  },
  "language_info": {
   "codemirror_mode": {
    "name": "ipython",
    "version": 3
   },
   "file_extension": ".py",
   "mimetype": "text/x-python",
   "name": "python",
   "nbconvert_exporter": "python",
   "pygments_lexer": "ipython3",
   "version": "3.9.13"
  }
 },
 "nbformat": 4,
 "nbformat_minor": 5
}
