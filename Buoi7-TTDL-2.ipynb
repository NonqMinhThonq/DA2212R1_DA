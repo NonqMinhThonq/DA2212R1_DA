{
 "cells": [
  {
   "cell_type": "code",
   "execution_count": null,
   "id": "9d77007f-1c04-43e5-a485-91e9acc9fafe",
   "metadata": {},
   "outputs": [],
   "source": [
    "import pandas as pd\n",
    "import numpy as np\n",
    "\n",
    "df = pd.read_csv(\"population_vi_v2.csv\")\n",
    "df"
   ]
  },
  {
   "cell_type": "code",
   "execution_count": null,
   "id": "70c0ba5f-8774-431a-a08c-83b906467d59",
   "metadata": {},
   "outputs": [],
   "source": [
    "#Lọc các bản ghi được ghi chép vào 2,3 năm trước.\n",
    "df[((df['Năm'] == 2020)|(df['Năm'] == 2019))]\n",
    "\n"
   ]
  },
  {
   "cell_type": "code",
   "execution_count": null,
   "id": "cc12ee7c-6f54-4135-af5b-f3da3932c64f",
   "metadata": {},
   "outputs": [],
   "source": [
    "#Lọc các bản ghi ở vùng Đồng bằng sông Cửu Long hoặc Đồng bằng sông Hồng có Lực lương lao động từ 15 tuổi trở lên > 2000 và Mật độ dân số >1500\n",
    "df[((df[\"Vùng\"] == \"Đồng bằng sông Hồng\") | (df[\"Vùng\"] == \"Đồng bằng sông Cửu Long\")) & (df[\"Lực lương lao động từ 15 tuổi trở lên\"]>2000) & (df[\"Mật độ dân số\"]>1500)].reset_index()"
   ]
  },
  {
   "cell_type": "code",
   "execution_count": null,
   "id": "3f7fc96d-307b-4f60-8cca-ab0603fbbd30",
   "metadata": {},
   "outputs": [],
   "source": [
    "#Lọc ra các bản ghi có mật độ dân số lớn hơn 1800 và tỉ lệ gia tăng dân số lớn hơn 1.7. Chỉ lấy cột từ 0 đến 4 lưu thành df1\n",
    "#df1 = df.iloc[:,0:4][(df[\"Mật độ dân số\"]>1800) & (df[\"Tỷ lệ gia tăng dân số\"]>1.7)].reset_index(drop=False)\n",
    "#df1\n",
    "#df1 = df[(df[\"Mật độ dân số\"]>1800) & (df[\"Tỷ lệ gia tăng dân số\"]>1.7)][[\"Các tỉnh thành\",\"Mật độ dân số\", \"Dân số trung bình\",\"Tỷ lệ giới tính\", \"Tỷ lệ gia tăng dân số\"]]\n",
    "df1 = df[(df[\"Mật độ dân số\"]>1800) & (df[\"Tỷ lệ gia tăng dân số\"]>1.7)]\n",
    "df1.drop([\"Lực lương lao động từ 15 tuổi trở lên\",\"Vùng\",\"Năm\"],axis = 1)\n",
    "df1.reset_index()"
   ]
  },
  {
   "cell_type": "code",
   "execution_count": null,
   "id": "18563145-8df7-4563-88e6-a1f184501149",
   "metadata": {},
   "outputs": [],
   "source": [
    "#Lọc ra 10 bản ghi có số lượng lực lượng lao động cao nhất. Chỉ lấy cột tỉnh thành lực lượng lao động từ 15 tuổi trở lên và vùng, năm. Lưu thành df2\n",
    "#Merge dataframe 1 và 2 với nhau tạo thành df3 có số index chuẩn.\n",
    "#Sort_values: chúng ta cần lấy 10 bản ghi có lực lượng lao động trên 15 tuổi cao nhất\n",
    "df2 = df[[\"Các tỉnh thành\", \"Lực lương lao động từ 15 tuổi trở lên\",\"Vùng\",\"Năm\"]].sort_values( \"Lực lương lao động từ 15 tuổi trở lên\",ascending = False)[0:10]\n",
    "df3 = pd.concat([df1,df2],axis = 0)\n",
    "df3.reset_index(inplace = True)\n",
    "df3.drop(\"index\", axis = 1, inplace = True)\n",
    "df3\n"
   ]
  },
  {
   "cell_type": "code",
   "execution_count": null,
   "id": "ea0d2111-d89e-465c-a4dd-07c961a7850f",
   "metadata": {},
   "outputs": [],
   "source": [
    "#Với mỗi vùng, tính trung bình mật độ dân số, tỷ lệ giới tính, tỉ lệ gia tăng dân số và tổng lực lượng lao động từ 15 tuổi trở lên. \n",
    "#Trả về df4, lưu tên các cột tương ứng toán tử được sử dụng.\n",
    "df4 = pd.pivot_table(df,index = \"Vùng\", values = {\"Mật độ dân số\",\"Tỷ lệ giới tính\", \"Tỷ lệ gia tăng dân số\", \"Lực lương lao động từ 15 tuổi trở lên\"}, aggfunc = {\"Mật độ dân số\":\"mean\", \"Tỷ lệ gia tăng dân số\":\"mean\", \"Lực lương lao động từ 15 tuổi trở lên\":\"sum\"})\n",
    "df4.rename( columns = {\"Lực lương lao động từ 15 tuổi trở lên\":\"Tổng LLLD 15+\",\"Mật độ dân số\":\"Avg Mật độ dân số\",\"Tỷ lệ gia tăng dân số\":\"Avg Tỷ lệ gia tăng dân số\"}, inplace = True)\n",
    "df4.reset_index(inplace = True)\n",
    "df4\n"
   ]
  },
  {
   "cell_type": "code",
   "execution_count": null,
   "id": "5cf2adff-f0de-43f1-b51a-697c9022554a",
   "metadata": {},
   "outputs": [],
   "source": [
    "#Đọc bộ dữ liệu, cho biết số dòng, số cột và kiểu dữ liệu của các thuộc tính.\n",
    "#Tạo cột mới có tên quý –  ‘Previous’ nhận giá trị 1 nếu ngày lập hóa đơn nằm trong các tháng 1,2,3; nhận giá trị 2 nếu ngày lập hóa đơn nằm trong các tháng 4,5,6; nhận giá trị 3 nếu ngày lập hóa đơn nằm trong các tháng 7,8,9;  nhận giá trị 4 nếu ngày lập hóa đơn nằm trong các tháng 10,11,12;\n",
    "#Tạo một cột mới có tên ‘Amount’ có giá trị bằng Quantity * UnitPrice\n",
    "#Tạo cột mới ‘Discount’ nhận giá trị 10% nếu Country là ‘United Kingdom’ và thuộc quý 4, 5% nếu là ‘France’ ngược lại là 0%.\n",
    "#Tạo cột mới ‘Total’ nhận giá trị bằng: Amount – Discount.\n",
    "\n",
    "import pandas as pd\n",
    "import numpy as np\n",
    "\n",
    "df = pd.read_csv(r\"C:\\Users\\nhngh\\Desktop\\DA\\Datasets\\OnlineRetail.csv\", encoding = \"ISO-8859-1\")\n",
    "df"
   ]
  },
  {
   "cell_type": "code",
   "execution_count": null,
   "id": "c4599bdd-4fd1-4e26-a6ec-44284089bef8",
   "metadata": {},
   "outputs": [],
   "source": [
    "#Tạo cột mới có tên quý –  ‘Previous’ nhận giá trị 1 nếu ngày lập hóa đơn nằm trong các tháng 1,2,3; nhận giá trị 2 nếu ngày lập hóa đơn nằm trong các tháng 4,5,6; \n",
    "#nhận giá trị 3 nếu ngày lập hóa đơn nằm trong các tháng 7,8,9;  nhận giá trị 4 nếu ngày lập hóa đơn nằm trong các tháng 10,11,12;\n",
    "\n",
    "df[\"InvoiceDate\"]= pd.to_datetime(df[\"InvoiceDate\"])\n",
    "df.info()\n",
    "df"
   ]
  },
  {
   "cell_type": "code",
   "execution_count": null,
   "id": "33cbbf3a-5502-46b0-aa90-8caac9e24e1c",
   "metadata": {},
   "outputs": [],
   "source": [
    "#Thực hiện np select, chúng ta phải define conditions, choices\n",
    "conditions = [(df[\"InvoiceDate\"].dt.month == 1) | (df[\"InvoiceDate\"].dt.month == 2) | (df[\"InvoiceDate\"].dt.month == 3),\n",
    "             (df[\"InvoiceDate\"].dt.month == 4) | (df[\"InvoiceDate\"].dt.month == 5) | (df[\"InvoiceDate\"].dt.month == 6),\n",
    "             (df[\"InvoiceDate\"].dt.month == 7)| (df[\"InvoiceDate\"].dt.month == 8) | (df[\"InvoiceDate\"].dt.month == 9),\n",
    "             (df[\"InvoiceDate\"].dt.month == 10) | (df[\"InvoiceDate\"].dt.month == 11) | (df[\"InvoiceDate\"].dt.month == 12)]\n",
    "choices = [1,2,3,4]\n",
    "df[\"Quy\"] = np.select(conditions, choices)\n",
    "df[\"Quy\"].unique()"
   ]
  },
  {
   "cell_type": "code",
   "execution_count": null,
   "id": "61c19af7-719b-48ea-bd4a-82e0d5c67933",
   "metadata": {},
   "outputs": [],
   "source": [
    "#Tạo một cột mới có tên ‘Amount’ có giá trị bằng Quantity * UnitPrice\n",
    "df[\"Amount\"] = df[\"Quantity\"] * df[\"UnitPrice\"]\n",
    "df"
   ]
  },
  {
   "cell_type": "code",
   "execution_count": null,
   "id": "2de2d7c2-8093-4e18-8468-2619e02dabb1",
   "metadata": {},
   "outputs": [],
   "source": [
    "#Tạo cột mới ‘Discount’ nhận giá trị 10% nếu Country là ‘United Kingdom’ và thuộc quý 4, 5% nếu là ‘France’ ngược lại là 0%.\n",
    "#Tạo cột mới ‘Total’ nhận giá trị bằng: Amount – Discount\n",
    "conditions = [(df[\"Country\"] == \"United Kingdom\") & (df[\"Quy\"] == 4),\n",
    "             (df[\"Country\"] == \"France\")]\n",
    "choices = [0.1,0.05]\n",
    "df[\"Discount\"] = np.select(conditions, choices, default = 0)\n",
    "df[\"Total\"] = df[\"Amount\"] - df[\"Amount\"] * df[\"Discount\"]\n",
    "df"
   ]
  },
  {
   "cell_type": "code",
   "execution_count": null,
   "id": "086aec9b-f168-4032-bf64-5dbfd4b5be2a",
   "metadata": {},
   "outputs": [],
   "source": []
  }
 ],
 "metadata": {
  "kernelspec": {
   "display_name": "Python 3 (ipykernel)",
   "language": "python",
   "name": "python3"
  },
  "language_info": {
   "codemirror_mode": {
    "name": "ipython",
    "version": 3
   },
   "file_extension": ".py",
   "mimetype": "text/x-python",
   "name": "python",
   "nbconvert_exporter": "python",
   "pygments_lexer": "ipython3",
   "version": "3.10.7"
  }
 },
 "nbformat": 4,
 "nbformat_minor": 5
}
